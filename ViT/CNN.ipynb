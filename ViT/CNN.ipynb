{
  "cells": [
    {
      "cell_type": "markdown",
      "metadata": {
        "id": "k3PKsz-1SH1U"
      },
      "source": [
        "# Instructions\n",
        "\n",
        "For this assignment you will use PyTorch instead of EDF to implement and train neural networks. The experiments in this assignment will take a long time to run without a GPU, but you can run the notebook remotely on Google Colab and have access to GPUs for free -- in this case you don't have to worry about installing PyTorch as it is available by default in Google Colab's environment.\n",
        "\n",
        "In case you will be running the experiments in your own machine, you should install PyTorch -- there are multiple tutorials online and it is especially easy if you're using Anaconda. Check https://pytorch.org/tutorials/ for some PyTorch tutorials -- this assignment assumes that you know the basics like defining models with multiple modules and coding up functions to train models with PyTorch optimizers. To\n",
        "\n",
        "To use Google Colab, you should access https://colab.research.google.com/ and upload this notebook to your workspace. To use a GPU, go to Edit -> Notebook settings and select GPU as the accelerator.\n",
        "\n",
        "Unlike previous assignments, in this one you will have to do some writing instead of just coding. Try to keep your answers short and precise, and you are encouraged to write equations if needed (you can do that using markdown cells). You can also use code as part of your answers (like plotting and printing, etc). Blue text indicates questions or things that you should discuss/comment, and there will red \"ANSWER (BEGIN)\" and \"ANSWER (END)\" markdown cells to indicate that you should add cells with your writeup between these two. **Make sure not to redefine variables or functions in your writeup, which can change the behavior of the next cells.**\n",
        "\n",
        "Finally, you might have to do minor changes to the provided code due to differences in python/pytorch versions. You can post on piazza if there's a major, non-trivial change that you had to do (so other students can be aware of it and how to proceed), but for minor changes you should just apply them and keep working on the assignment."
      ]
    },
    {
      "cell_type": "code",
      "execution_count": null,
      "metadata": {
        "id": "FD0LkiPhSH1Z"
      },
      "outputs": [],
      "source": [
        "import torch, math, copy\n",
        "import numpy as np\n",
        "from torchvision import datasets, transforms\n",
        "import torch.nn as nn\n",
        "import torch.nn.init as init\n",
        "import torch.nn.functional as F\n",
        "from functools import cache"
      ]
    },
    {
      "cell_type": "markdown",
      "metadata": {
        "id": "l0KZgSc2SH1o"
      },
      "source": [
        "# From Shallow to Deep Neural Networks\n",
        "\n",
        "The main goal of this assignment is to develop a better understanding of how the depth of a network interacts with its trainability and performance.\n",
        "\n",
        "In the previous assignment you likely observed difficulties in training sigmoid and ReLU networks with over ~8 layers, which is typically associated with 'vanishing' or 'exploding' gradients. As you will see, some of the biggest achievements in deep learning have been the development of techniques that enable deeper networks to be successfully trained, and without them deep networks are notoriously difficult to train successfully.\n",
        "\n",
        "You will be working with the MNIST dataset, which will be downloaded and loaded in the cell below."
      ]
    },
    {
      "cell_type": "code",
      "execution_count": null,
      "metadata": {
        "id": "b_qmffSoSH1o",
        "colab": {
          "base_uri": "https://localhost:8080/"
        },
        "outputId": "591f22d8-46a9-483e-84ee-5379b666bd35"
      },
      "outputs": [
        {
          "output_type": "stream",
          "name": "stdout",
          "text": [
            "Downloading http://yann.lecun.com/exdb/mnist/train-images-idx3-ubyte.gz\n",
            "Downloading http://yann.lecun.com/exdb/mnist/train-images-idx3-ubyte.gz to data/MNIST/raw/train-images-idx3-ubyte.gz\n"
          ]
        },
        {
          "output_type": "stream",
          "name": "stderr",
          "text": [
            "100%|██████████| 9912422/9912422 [00:00<00:00, 15244750.14it/s]\n"
          ]
        },
        {
          "output_type": "stream",
          "name": "stdout",
          "text": [
            "Extracting data/MNIST/raw/train-images-idx3-ubyte.gz to data/MNIST/raw\n",
            "\n",
            "Downloading http://yann.lecun.com/exdb/mnist/train-labels-idx1-ubyte.gz\n",
            "Downloading http://yann.lecun.com/exdb/mnist/train-labels-idx1-ubyte.gz to data/MNIST/raw/train-labels-idx1-ubyte.gz\n"
          ]
        },
        {
          "output_type": "stream",
          "name": "stderr",
          "text": [
            "100%|██████████| 28881/28881 [00:00<00:00, 4368083.58it/s]\n"
          ]
        },
        {
          "output_type": "stream",
          "name": "stdout",
          "text": [
            "Extracting data/MNIST/raw/train-labels-idx1-ubyte.gz to data/MNIST/raw\n",
            "\n",
            "Downloading http://yann.lecun.com/exdb/mnist/t10k-images-idx3-ubyte.gz\n",
            "Downloading http://yann.lecun.com/exdb/mnist/t10k-images-idx3-ubyte.gz to data/MNIST/raw/t10k-images-idx3-ubyte.gz\n"
          ]
        },
        {
          "output_type": "stream",
          "name": "stderr",
          "text": [
            "100%|██████████| 1648877/1648877 [00:00<00:00, 5996122.22it/s]\n"
          ]
        },
        {
          "output_type": "stream",
          "name": "stdout",
          "text": [
            "Extracting data/MNIST/raw/t10k-images-idx3-ubyte.gz to data/MNIST/raw\n",
            "\n",
            "Downloading http://yann.lecun.com/exdb/mnist/t10k-labels-idx1-ubyte.gz\n",
            "Downloading http://yann.lecun.com/exdb/mnist/t10k-labels-idx1-ubyte.gz to data/MNIST/raw/t10k-labels-idx1-ubyte.gz\n"
          ]
        },
        {
          "output_type": "stream",
          "name": "stderr",
          "text": [
            "100%|██████████| 4542/4542 [00:00<00:00, 3933621.47it/s]"
          ]
        },
        {
          "output_type": "stream",
          "name": "stdout",
          "text": [
            "Extracting data/MNIST/raw/t10k-labels-idx1-ubyte.gz to data/MNIST/raw\n",
            "\n"
          ]
        },
        {
          "output_type": "stream",
          "name": "stderr",
          "text": [
            "\n"
          ]
        }
      ],
      "source": [
        "transform = transforms.Compose([transforms.ToTensor(), transforms.Normalize((0.1307,), (0.3081,))])\n",
        "\n",
        "train_dataset = datasets.MNIST(\"data\", train=True, download=True, transform=transform)\n",
        "train_loader = torch.utils.data.DataLoader(train_dataset, batch_size=256, shuffle=True)\n",
        "\n",
        "test_dataset = datasets.MNIST(\"data\", train=False, download=True, transform=transform)\n",
        "test_loader = torch.utils.data.DataLoader(test_dataset, batch_size=256, shuffle=False)"
      ]
    },
    {
      "cell_type": "markdown",
      "metadata": {
        "id": "iIviUo83SH1o"
      },
      "source": [
        "Fill the missing code below. In both train_epoch and test, total_correct should be the total number of correctly classified samples, while total_samples should be the total number of samples that have been iterated over."
      ]
    },
    {
      "cell_type": "code",
      "execution_count": null,
      "metadata": {
        "id": "MIHugdT9SH1o"
      },
      "outputs": [],
      "source": [
        "def train(epochs, model, criterion, optimizer, train_loader, test_loader):\n",
        "    for epoch in range(epochs):\n",
        "        train_err = train_epoch(model, criterion, optimizer, train_loader)\n",
        "        test_err = test(model, test_loader)\n",
        "        print('Epoch {:03d}/{:03d}, Train Error {:.2f}% || Test Error {:.2f}%'.format(epoch, epochs, train_err*100, test_err*100))\n",
        "    return train_err, test_err\n",
        "\n",
        "def train_epoch(model, criterion, optimizer, loader):\n",
        "    total_correct = 0.\n",
        "    total_samples = 0.\n",
        "\n",
        "    for batch_idx, (data, target) in enumerate(loader):\n",
        "        if torch.cuda.is_available():\n",
        "            data, target = data.cuda(), target.cuda()\n",
        "\n",
        "        # insert code to feed the data to the model and collect its output\n",
        "        output = model(data)\n",
        "\n",
        "        # insert code to compute the loss from output and the true target\n",
        "        loss = criterion(output, target)\n",
        "\n",
        "        # insert code to update total_correct and total_samples\n",
        "        # total_correct: total number of correctly classified samples\n",
        "        # total_samples: total number of samples seen so far\n",
        "        _, pred = torch.max(output.data, 1)\n",
        "        total_correct += (pred == target).sum().item()\n",
        "        total_samples += target.size(0)\n",
        "\n",
        "        # insert code to update the parameters using optimizer\n",
        "        # be careful in this part as an incorrect implementation will affect\n",
        "        # all your experiments and have a significant impact on your grade!\n",
        "        # in particular, note that pytorch does --not-- automatically\n",
        "        # clear the parameter's gradients: check tutorials to see\n",
        "        # how this can be done with a single method call.\n",
        "        optimizer.zero_grad()\n",
        "        loss.backward()\n",
        "        optimizer.step()\n",
        "\n",
        "    return 1 - total_correct/total_samples\n",
        "\n",
        "def test(model, loader):\n",
        "    total_correct = 0.\n",
        "    total_samples = 0.\n",
        "    model.eval()\n",
        "\n",
        "    with torch.no_grad():\n",
        "        for batch_idx, (data, target) in enumerate(loader):\n",
        "            if torch.cuda.is_available():\n",
        "                data, target = data.cuda(), target.cuda()\n",
        "\n",
        "            # insert code to feed the data to the model and collect its output\n",
        "            output = model(data)\n",
        "\n",
        "            # insert code to update total_correct and total_samples\n",
        "            # total_correct: total number of correctly classified samples\n",
        "            # total_samples: total number of samples seen so far\n",
        "            _, pred = torch.max(output.data, 1)\n",
        "            total_correct += (pred == target).sum().item()\n",
        "            total_samples += target.size(0)\n",
        "\n",
        "    return 1 - total_correct/total_samples"
      ]
    },
    {
      "cell_type": "markdown",
      "metadata": {
        "id": "0cTYkX0GSH1p"
      },
      "source": [
        "### CNN with Tanh activations\n",
        "\n",
        "Next, you should implement a baseline model so you can check how increasing the number of layers can make a network considerably harder to train, given that no additional methods such as residual connections and normalization layers are adopted.\n",
        "\n",
        "Finish the implementation of CNNtanh below, carefully following the specifications:\n",
        "\n",
        "The model should have exactly 'k' many convolutional layers, followed by a linear (fully-connected) layer that actually outputs the logits for each of the 10 MNIST classes.\n",
        "\n",
        "The network should consist of 3 stages, each with k/3 many convolutional layers (you can assume k is divisible by 3). Each conv layer should have a 3x3 kernel, a stride of 1 and a padding of 1 pixel (such that the output of the convolution has the same height and width as its input).\n",
        "\n",
        "It should also have an average pooling layer at the end of each stage, with a 2x2 window (hence halving the spatial dimensions), and the number of channels should double from one stage to the other (starting with 4 in the first stage). Moreover, a Tanh activation should follow each convolution layer.\n",
        "\n",
        "When k=3, for example, the network should be:\n",
        "\n",
        "1. Stage 1 (1x28x28 input, 4x14x14 output):\n",
        "    1. Conv layer with 1 input channel and 4 output channels, 3x3 kernel, stride=padding=1\n",
        "    2. Tanh activation\n",
        "    3. Average Pool with 2x2 kernel and stride 2\n",
        "2. Stage 2 (4x14x14 input, 8x7x7 output):\n",
        "    1. Conv layer with 4 input channels and 8 output channels, 3x3 kernel, stride=padding=1\n",
        "    2. Tanh activation\n",
        "    3. Average Pool with 2x2 kernel and stride 2\n",
        "3. Stage 3 (8x7x7 input, 16x3x3 output):\n",
        "    1. Conv layer with 8 input channels and 16 output channels, 3x3 kernel, stride=padding=1\n",
        "    2. Tanh activation\n",
        "    3. Average Pool with 2x2 kernel and stride 2\n",
        "4. Fully-connected layer with 16 * 3 * 3=144 input dimension and 10 output dimension\n",
        "\n",
        "Note that the model should not have any activation after the fully-connected layer: the PyTorch loss module that will be adopted takes logits as input and not class probabilities.\n",
        "\n",
        "In contrast to the network exemplified above with k=3, when k=6 it should have two conv layers per stage instead of one (each one with a tanh activation following it).\n",
        "\n",
        "Lastly, do not change the code block with a for loop in the end of init: its purpose to randomly initialize the parameters of the conv layers by sampling from a Gaussian with zero mean and 0.05 deviation."
      ]
    },
    {
      "cell_type": "code",
      "execution_count": null,
      "metadata": {
        "id": "Xc9pl4t_SH1p"
      },
      "outputs": [],
      "source": [
        "class CNNtanh(nn.Module):\n",
        "    def __init__(self, k):\n",
        "        super(CNNtanh, self).__init__()\n",
        "\n",
        "        layers_per_stage = k // 3\n",
        "        self.stages = nn.ModuleList()\n",
        "\n",
        "        out_channels = [4, 8, 16]\n",
        "        in_channels = 1\n",
        "        for i in range(3):\n",
        "            stage = nn.ModuleList()\n",
        "            for _ in range(layers_per_stage):\n",
        "                stage.append(nn.Conv2d(in_channels, out_channels[i], kernel_size=3, stride=1, padding=1))\n",
        "                stage.append(nn.Tanh())\n",
        "                in_channels = out_channels[i]\n",
        "            stage.append(nn.AvgPool2d(kernel_size=2, stride=2))\n",
        "            self.stages.append(stage)\n",
        "\n",
        "        self.fully_connected = nn.Linear(out_channels[-1] * 3 * 3, 10)\n",
        "\n",
        "        for m in self.modules():\n",
        "            if isinstance(m, nn.Conv2d):\n",
        "                m.weight.data.normal_(0, 0.05)\n",
        "                m.bias.data.zero_()\n",
        "\n",
        "    def forward(self, input):\n",
        "\n",
        "        # write code here to define how the output u is computed\n",
        "        # from the input and the model's layers\n",
        "        # for example, u = self.conv(input) defines u\n",
        "        # to be simply the output of self.conv given 'input'\n",
        "\n",
        "        L = input\n",
        "        for stage in self.stages:\n",
        "            for layer in stage:\n",
        "                L = layer(L)\n",
        "\n",
        "        L = L.view(L.size(0), -1)\n",
        "        return self.fully_connected(L)\n"
      ]
    },
    {
      "cell_type": "markdown",
      "metadata": {
        "id": "rx_4tOu4uiFW"
      },
      "source": [
        "The line below just instantiates the PyTorch Cross Entropy loss, whose inputs should be logits: hence the reason that the CNN should not have an activation after last (feedforward) layer."
      ]
    },
    {
      "cell_type": "code",
      "execution_count": null,
      "metadata": {
        "id": "P4vxR4FOSH1p"
      },
      "outputs": [],
      "source": [
        "criterion = torch.nn.CrossEntropyLoss()"
      ]
    },
    {
      "cell_type": "markdown",
      "metadata": {
        "id": "jv54ar5_SH1p"
      },
      "source": [
        "Now, you should train CNNtanh with different values for k: your goal is to find the largest value for k such that the network achieves less than 20% error (either train or test) in 3 epochs. You should also choose an appropriate learning rate (but do not change the optimizer or the momentum settings!).\n",
        "\n",
        "Note that CNNs can easily achieve under 2% test error on MNIST, but we're choosing 20% as a threshold since you will be training each network for only 3 epochs.\n",
        "\n",
        "Remember to use values for k that are divisible by 3. When submitted, your notebook should have the training log of a network with two consecutive values for k (for example, 6 and 9) such that the network is 'trainable' with the smaller one but not 'trainable' with the larger one. It is fine for the training log to include runs with more than two values of k."
      ]
    },
    {
      "cell_type": "code",
      "source": [
        "# Binary search between lower=3 and upper=upper to find the lowest upper\n",
        "# bound for the training rate\n",
        "\n",
        "def search(lr, upper, model_factory):\n",
        "    max_err = 0.2\n",
        "    l, r = 1, (upper // 3)\n",
        "    cache = set()\n",
        "    print(\"Searching for lowest upper bound of trainability\")\n",
        "    while l <= r:\n",
        "        mid = (l + r) // 2\n",
        "        layers = 3 * mid\n",
        "        model = model_factory(layers).cuda()\n",
        "        optimizer = torch.optim.SGD(model.parameters(), lr=lr, momentum=0.9)\n",
        "        print(\"Training CNN with {} layers\".format(layers))\n",
        "        _, test_err = train(3, model, criterion, optimizer, train_loader, test_loader)\n",
        "        cache.add(3 * mid)\n",
        "        if test_err >= max_err:\n",
        "            print(\"  Error too high, looking lower\")\n",
        "            r = mid - 1\n",
        "        else:\n",
        "            print(\"  Error under threshold, looking higher\")\n",
        "            l = mid + 1\n",
        "    # Trains the two consecutive k's if they haven't been trained yet\n",
        "    print(f\"With lr={lr}, values of k are {3*r}, {3*r+3}\")\n",
        "    for l in [3*r, 3*r + 3]:\n",
        "        if l not in cache:\n",
        "            model = model_factory(layers).cuda()\n",
        "            optimizer = torch.optim.SGD(model.parameters(), lr=lr, momentum=0.9)\n",
        "            print(\"Training CNN with {} layers\".format(layers))\n",
        "            _, test_err = train(3, model, criterion, optimizer, train_loader, test_loader)\n",
        "    return 3*r"
      ],
      "metadata": {
        "id": "rOdffLm2diV6"
      },
      "execution_count": null,
      "outputs": []
    },
    {
      "cell_type": "code",
      "execution_count": null,
      "metadata": {
        "id": "LhQwwlUzSH1p",
        "colab": {
          "base_uri": "https://localhost:8080/"
        },
        "outputId": "8489b8b4-53f3-4041-c95b-e90cef524e68"
      },
      "outputs": [
        {
          "output_type": "stream",
          "name": "stdout",
          "text": [
            "Searching for lowest upper bound of trainability\n",
            "Training CNN with 12 layers\n",
            "Epoch 000/003, Train Error 89.04% || Test Error 88.65%\n",
            "Epoch 001/003, Train Error 88.76% || Test Error 88.65%\n",
            "Epoch 002/003, Train Error 88.76% || Test Error 88.65%\n",
            "  Error too high, looking lower\n",
            "Training CNN with 6 layers\n",
            "Epoch 000/003, Train Error 88.91% || Test Error 88.65%\n",
            "Epoch 001/003, Train Error 88.76% || Test Error 88.65%\n",
            "Epoch 002/003, Train Error 47.04% || Test Error 21.92%\n",
            "  Error too high, looking lower\n",
            "Training CNN with 3 layers\n",
            "Epoch 000/003, Train Error 70.22% || Test Error 32.00%\n",
            "Epoch 001/003, Train Error 22.74% || Test Error 16.76%\n",
            "Epoch 002/003, Train Error 15.67% || Test Error 13.24%\n",
            "  Error under threshold, looking higher\n",
            "With lr=0.01, values of k are 3, 6\n"
          ]
        }
      ],
      "source": [
        "search(lr=0.01, upper=24, model_factory=CNNtanh);"
      ]
    },
    {
      "cell_type": "markdown",
      "metadata": {
        "id": "1k8-1IeISH1q"
      },
      "source": [
        "### Better Initialization\n",
        "\n",
        "Next, we will change the initialization of the conv layers and see how it affects the trainability of deep networks. Instead of sampling from a Gaussian with a deviation of 0.05, you should sample from a Gaussian with a deviation $\\sigma = \\sqrt{\\frac{1}{k^2 \\cdot C_{out}}}$ or $\\sigma = \\sqrt{\\frac{1}{k^2 \\cdot C_{in}}}$, where $k$ is the kernel size ($k=3$ for 3x3 convolutions), $C_{in}$ is the number of input channels, and $C_{out}$ the number of output channels.\n",
        "\n",
        "The model below should be exactly like CNNtanh except for the standard deviation of the normal distribution used to initialize the conv layers.\n",
        "\n",
        "The paper 'Understanding the difficulty of training deep feedforward neural networks' by Glorot and Bengio provides some intuition behind such a choice for $\\sigma$."
      ]
    },
    {
      "cell_type": "code",
      "execution_count": null,
      "metadata": {
        "id": "mLCUVVAJfm25"
      },
      "outputs": [],
      "source": [
        "class CNNtanh_newinit(nn.Module):\n",
        "    def __init__(self, k):\n",
        "        super(CNNtanh_newinit, self).__init__()\n",
        "\n",
        "        layers_per_stage = k // 3\n",
        "        self.stages = nn.ModuleList()\n",
        "\n",
        "        out_channels = [4, 8, 16]\n",
        "        in_channels = 1\n",
        "        for i in range(3):\n",
        "            stage = nn.ModuleList()\n",
        "            for _ in range(layers_per_stage):\n",
        "                stage.append(nn.Conv2d(in_channels, out_channels[i], kernel_size=3, stride=1, padding=1))\n",
        "                stage.append(nn.Tanh())\n",
        "                in_channels = out_channels[i]\n",
        "            stage.append(nn.AvgPool2d(kernel_size=2, stride=2))\n",
        "            self.stages.append(stage)\n",
        "\n",
        "        self.fully_connected = nn.Linear(out_channels[-1] * 3 * 3, 10)\n",
        "\n",
        "        for m in self.modules():\n",
        "            if isinstance(m, nn.Conv2d):\n",
        "                sigma = np.sqrt(1 / (9 * m.in_channels))\n",
        "                m.weight.data.normal_(0, sigma)\n",
        "                m.bias.data.zero_()\n",
        "\n",
        "    def forward(self, input):\n",
        "        L = input\n",
        "        for stage in self.stages:\n",
        "            for layer in stage:\n",
        "                L = layer(L)\n",
        "\n",
        "        L = L.view(L.size(0), -1)\n",
        "        return self.fully_connected(L)"
      ]
    },
    {
      "cell_type": "markdown",
      "metadata": {
        "id": "4_1LxL-Y0Q2A"
      },
      "source": [
        "Repeat the procedure of finding the maximum number of layers such that the network is still trainable, this time with CNNtanhinit."
      ]
    },
    {
      "cell_type": "code",
      "source": [
        "search(lr=0.01, upper=120, model_factory=CNNtanh_newinit);"
      ],
      "metadata": {
        "colab": {
          "base_uri": "https://localhost:8080/"
        },
        "id": "xs7njwb_DaXz",
        "outputId": "382d2dcd-fc7d-4174-afce-945a0b7a406c"
      },
      "execution_count": null,
      "outputs": [
        {
          "output_type": "stream",
          "name": "stdout",
          "text": [
            "Searching for lowest upper bound of trainability\n",
            "Training CNN with 60 layers\n",
            "Epoch 000/003, Train Error 60.63% || Test Error 12.72%\n",
            "Epoch 001/003, Train Error 7.25% || Test Error 3.81%\n",
            "Epoch 002/003, Train Error 3.95% || Test Error 2.73%\n",
            "  Error under threshold, looking higher\n",
            "Training CNN with 90 layers\n",
            "Epoch 000/003, Train Error 88.98% || Test Error 88.65%\n",
            "Epoch 001/003, Train Error 88.76% || Test Error 88.65%\n",
            "Epoch 002/003, Train Error 66.84% || Test Error 30.07%\n",
            "  Error too high, looking lower\n",
            "Training CNN with 75 layers\n",
            "Epoch 000/003, Train Error 59.16% || Test Error 18.90%\n",
            "Epoch 001/003, Train Error 10.69% || Test Error 6.18%\n",
            "Epoch 002/003, Train Error 6.60% || Test Error 4.04%\n",
            "  Error under threshold, looking higher\n",
            "Training CNN with 81 layers\n",
            "Epoch 000/003, Train Error 73.46% || Test Error 31.82%\n",
            "Epoch 001/003, Train Error 24.31% || Test Error 10.68%\n",
            "Epoch 002/003, Train Error 7.78% || Test Error 5.97%\n",
            "  Error under threshold, looking higher\n",
            "Training CNN with 84 layers\n",
            "Epoch 000/003, Train Error 68.42% || Test Error 36.90%\n",
            "Epoch 001/003, Train Error 18.18% || Test Error 7.39%\n",
            "Epoch 002/003, Train Error 6.97% || Test Error 5.68%\n",
            "  Error under threshold, looking higher\n",
            "Training CNN with 87 layers\n",
            "Epoch 000/003, Train Error 69.62% || Test Error 91.40%\n",
            "Epoch 001/003, Train Error 89.44% || Test Error 88.65%\n",
            "Epoch 002/003, Train Error 89.17% || Test Error 88.65%\n",
            "  Error too high, looking lower\n",
            "With lr=0.01, values of k are 84, 87\n"
          ]
        },
        {
          "output_type": "execute_result",
          "data": {
            "text/plain": [
              "84"
            ]
          },
          "metadata": {},
          "execution_count": 9
        }
      ]
    },
    {
      "cell_type": "markdown",
      "metadata": {
        "id": "VkVRwRkW0rkQ"
      },
      "source": [
        "### CNN with ELU activations\n",
        "\n",
        "In this section you should replace the Tanh activations of the previous network for Exponential Linear Units (ELUs). Complete CNNelu below, which should be exactly like CNNtanhinit except for ELU activations instead of Tanh (ELUs are readily available in PyTorch, check its documentation for more details)."
      ]
    },
    {
      "cell_type": "code",
      "execution_count": null,
      "metadata": {
        "id": "xFyLrax5SH1t"
      },
      "outputs": [],
      "source": [
        "class CNNelu(nn.Module):\n",
        "    def __init__(self, k):\n",
        "        super(CNNelu, self).__init__()\n",
        "\n",
        "        layers_per_stage = k // 3\n",
        "        self.stages = nn.ModuleList()\n",
        "\n",
        "        out_channels = [4, 8, 16]\n",
        "        in_channels = 1\n",
        "        for i in range(3):\n",
        "            stage = nn.ModuleList()\n",
        "            for _ in range(layers_per_stage):\n",
        "                stage.append(nn.Conv2d(in_channels, out_channels[i], kernel_size=3, stride=1, padding=1))\n",
        "                stage.append(nn.ELU())\n",
        "                in_channels = out_channels[i]\n",
        "            stage.append(nn.AvgPool2d(kernel_size=2, stride=2))\n",
        "            self.stages.append(stage)\n",
        "\n",
        "        self.fully_connected = nn.Linear(out_channels[-1] * 3 * 3, 10)\n",
        "\n",
        "        for m in self.modules():\n",
        "            if isinstance(m, nn.Conv2d):\n",
        "                sigma = np.sqrt(1 / (9 * m.in_channels))\n",
        "                m.weight.data.normal_(0, sigma)\n",
        "                m.bias.data.zero_()\n",
        "\n",
        "    def forward(self, input):\n",
        "        L = input\n",
        "        for stage in self.stages:\n",
        "            for layer in stage:\n",
        "                L = layer(L)\n",
        "\n",
        "        L = L.view(L.size(0), -1)\n",
        "        return self.fully_connected(L)"
      ]
    },
    {
      "cell_type": "markdown",
      "metadata": {
        "id": "f2toBBTt1ZU5"
      },
      "source": [
        "Repeat the procedure of finding the maximum number of layers such that the network is still trainable, this time with CNNelu."
      ]
    },
    {
      "cell_type": "code",
      "source": [
        "search(lr=0.01, upper=150, model_factory=CNNelu);"
      ],
      "metadata": {
        "id": "9VaHE5o3Gm6s",
        "colab": {
          "base_uri": "https://localhost:8080/"
        },
        "outputId": "33f4e5af-813c-4da2-eda9-3d6fdb1d1487"
      },
      "execution_count": null,
      "outputs": [
        {
          "output_type": "stream",
          "name": "stdout",
          "text": [
            "Searching for lowest upper bound of trainability\n",
            "Training CNN with 75 layers\n",
            "Epoch 000/003, Train Error 62.27% || Test Error 14.74%\n",
            "Epoch 001/003, Train Error 9.80% || Test Error 7.90%\n",
            "Epoch 002/003, Train Error 5.42% || Test Error 3.75%\n",
            "  Error under threshold, looking higher\n",
            "Training CNN with 114 layers\n",
            "Epoch 000/003, Train Error 88.87% || Test Error 88.65%\n",
            "Epoch 001/003, Train Error 88.76% || Test Error 88.65%\n",
            "Epoch 002/003, Train Error 88.76% || Test Error 88.65%\n",
            "  Error too high, looking lower\n",
            "Training CNN with 93 layers\n",
            "Epoch 000/003, Train Error 88.98% || Test Error 88.65%\n",
            "Epoch 001/003, Train Error 60.32% || Test Error 17.00%\n",
            "Epoch 002/003, Train Error 11.69% || Test Error 5.16%\n",
            "  Error under threshold, looking higher\n",
            "Training CNN with 102 layers\n",
            "Epoch 000/003, Train Error 88.85% || Test Error 88.65%\n",
            "Epoch 001/003, Train Error 88.76% || Test Error 88.65%\n",
            "Epoch 002/003, Train Error 79.12% || Test Error 52.32%\n",
            "  Error too high, looking lower\n",
            "Training CNN with 96 layers\n",
            "Epoch 000/003, Train Error 69.28% || Test Error 27.49%\n",
            "Epoch 001/003, Train Error 84.00% || Test Error 88.65%\n",
            "Epoch 002/003, Train Error 89.08% || Test Error 88.65%\n",
            "  Error too high, looking lower\n",
            "With lr=0.01, values of k are 93, 96\n"
          ]
        },
        {
          "output_type": "execute_result",
          "data": {
            "text/plain": [
              "93"
            ]
          },
          "metadata": {},
          "execution_count": 11
        }
      ]
    },
    {
      "cell_type": "markdown",
      "metadata": {
        "id": "EjhF18tS1hVw"
      },
      "source": [
        "### CNN with Batch Normalization\n",
        "\n",
        "Next, you will check how batch normalization can make deep networks easier to train. Implement the network below, which should be exactly like CNNelu except for additional BatchNorm2d layers after each convolution (before the ELU activation).\n",
        "\n",
        "Note that BatchNorm2d modules require the number of channels as argument -- see the PyTorch documentation for more details."
      ]
    },
    {
      "cell_type": "code",
      "execution_count": null,
      "metadata": {
        "id": "AHqz0bqbDKEo"
      },
      "outputs": [],
      "source": [
        "class CNNeluBN(nn.Module):\n",
        "    def __init__(self, k):\n",
        "        super(CNNeluBN, self).__init__()\n",
        "\n",
        "        # write code here to instantiate layers\n",
        "        # for example, self.conv = nn.Conv2d(1, 4, 3, 1, 1)\n",
        "        # creates a conv layer with 1 input channel, 4 output\n",
        "        # channels, a 3x3 kernel, and stride=padding=1\n",
        "\n",
        "        layers_per_stage = k // 3\n",
        "        self.stages = nn.ModuleList()\n",
        "\n",
        "        out_channels = [4, 8, 16]\n",
        "        in_channels = 1\n",
        "        for i in range(3):\n",
        "            stage = nn.ModuleList()\n",
        "            for _ in range(layers_per_stage):\n",
        "                stage.append(nn.Conv2d(in_channels, out_channels[i], kernel_size=3, stride=1, padding=1))\n",
        "                stage.append(nn.BatchNorm2d(out_channels[i]))\n",
        "                stage.append(nn.ELU())\n",
        "                in_channels = out_channels[i]\n",
        "            stage.append(nn.AvgPool2d(kernel_size=2, stride=2))\n",
        "            self.stages.append(stage)\n",
        "\n",
        "        self.fully_connected = nn.Linear(out_channels[-1] * 3 * 3, 10)\n",
        "\n",
        "        for m in self.modules():\n",
        "            if isinstance(m, nn.Conv2d):\n",
        "                sigma = np.sqrt(1 / (9 * m.in_channels))\n",
        "                m.weight.data.normal_(0, sigma)\n",
        "                m.bias.data.zero_()\n",
        "\n",
        "    def forward(self, input):\n",
        "        L = input\n",
        "        for stage in self.stages:\n",
        "            for layer in stage:\n",
        "                L = layer(L)\n",
        "\n",
        "        L = L.view(L.size(0), -1)\n",
        "        return self.fully_connected(L)"
      ]
    },
    {
      "cell_type": "markdown",
      "metadata": {
        "id": "_WqDqDmG2eAo"
      },
      "source": [
        "Repeat the procedure of finding the maximum number of layers such that the network is still trainable, this time with CNNeluBN."
      ]
    },
    {
      "cell_type": "code",
      "source": [
        "search(lr=0.01, upper=300, model_factory=CNNeluBN);"
      ],
      "metadata": {
        "id": "n7qLyZegGq5z",
        "colab": {
          "base_uri": "https://localhost:8080/"
        },
        "outputId": "43810b21-3fc7-4b9a-af71-be667b481d57"
      },
      "execution_count": null,
      "outputs": [
        {
          "output_type": "stream",
          "name": "stdout",
          "text": [
            "Searching for lowest upper bound of trainability\n",
            "Training CNN with 150 layers\n",
            "Epoch 000/003, Train Error 44.15% || Test Error 24.05%\n",
            "Epoch 001/003, Train Error 37.10% || Test Error 22.35%\n",
            "Epoch 002/003, Train Error 17.86% || Test Error 11.17%\n",
            "  Error under threshold, looking higher\n",
            "Training CNN with 225 layers\n",
            "Epoch 000/003, Train Error 89.27% || Test Error 89.06%\n",
            "Epoch 001/003, Train Error 89.22% || Test Error 89.57%\n",
            "Epoch 002/003, Train Error 86.63% || Test Error 83.53%\n",
            "  Error too high, looking lower\n",
            "Training CNN with 186 layers\n",
            "Epoch 000/003, Train Error 80.13% || Test Error 56.50%\n",
            "Epoch 001/003, Train Error 51.95% || Test Error 39.56%\n",
            "Epoch 002/003, Train Error 34.12% || Test Error 35.61%\n",
            "  Error too high, looking lower\n",
            "Training CNN with 168 layers\n",
            "Epoch 000/003, Train Error 57.80% || Test Error 37.98%\n",
            "Epoch 001/003, Train Error 87.25% || Test Error 89.90%\n",
            "Epoch 002/003, Train Error 89.40% || Test Error 90.26%\n",
            "  Error too high, looking lower\n",
            "Training CNN with 159 layers\n",
            "Epoch 000/003, Train Error 66.75% || Test Error 43.04%\n",
            "Epoch 001/003, Train Error 88.98% || Test Error 89.90%\n",
            "Epoch 002/003, Train Error 89.39% || Test Error 88.65%\n",
            "  Error too high, looking lower\n",
            "Training CNN with 153 layers\n",
            "Epoch 000/003, Train Error 78.17% || Test Error 59.16%\n",
            "Epoch 001/003, Train Error 39.92% || Test Error 20.64%\n",
            "Epoch 002/003, Train Error 17.64% || Test Error 10.46%\n",
            "  Error under threshold, looking higher\n",
            "Training CNN with 156 layers\n",
            "Epoch 000/003, Train Error 82.09% || Test Error 62.23%\n",
            "Epoch 001/003, Train Error 49.98% || Test Error 28.62%\n",
            "Epoch 002/003, Train Error 21.04% || Test Error 15.46%\n",
            "  Error under threshold, looking higher\n",
            "With lr=0.01, values of k are 156, 159\n"
          ]
        },
        {
          "output_type": "execute_result",
          "data": {
            "text/plain": [
              "156"
            ]
          },
          "metadata": {},
          "execution_count": 13
        }
      ]
    },
    {
      "cell_type": "markdown",
      "metadata": {
        "id": "0LOZfZtl2gcg"
      },
      "source": [
        "### Residual Networks\n",
        "\n",
        "Finally, you experiment adding residual connections to a CNN.\n",
        "\n",
        "To implement the model below, you should add a 'skip connection' to 'Conv->BatchNorm->ELU' blocks whenever the shape of the block's input and output are the same: this will be the case for every such block except for the first ones in each stage, as they double the number of channels.\n",
        "\n",
        "More specifically, you should change $u = ELU(BatchNorm(Conv(x)))$ to $u = ELU(BatchNorm(Conv(x))) + x$, where $x$ and $u$ denote the block's input and output, respectively.\n",
        "\n",
        "You should take your CNNeluBN implementation and add skip-connections as described above.\n",
        "\n",
        "Note that there are key differences between the resulting model and the actual ResNet proposed by He et al. in 'Deep Residual Learning for Image Recognition', for example the use of ELU activations instead of ReLU and the exact position of skip-connections."
      ]
    },
    {
      "cell_type": "code",
      "execution_count": null,
      "metadata": {
        "id": "wA6ItpH-GpK_"
      },
      "outputs": [],
      "source": [
        "class ResBlock(nn.Module):\n",
        "    def __init__(self, ins, outs, kernel_size=3, stride=1, padding=1):\n",
        "        super(ResBlock, self).__init__()\n",
        "        self.conv = nn.Conv2d(ins, outs, kernel_size, stride, padding)\n",
        "        self.bn = nn.BatchNorm2d(outs)\n",
        "        self.elu = nn.ELU()\n",
        "\n",
        "    def forward(self, x):\n",
        "        out = self.conv(x)\n",
        "        out = self.bn(out)\n",
        "        out = self.elu(out)\n",
        "        out = out + x\n",
        "        return out\n",
        "\n",
        "class ResNet(nn.Module):\n",
        "    def __init__(self, k):\n",
        "        super(ResNet, self).__init__()\n",
        "\n",
        "        layers_per_stage = k // 3\n",
        "        self.stages = nn.ModuleList()\n",
        "\n",
        "        out_channels = [4, 8, 16]\n",
        "        in_channels = 1\n",
        "        for i in range(3):\n",
        "            stage = nn.ModuleList()\n",
        "            for l in range(layers_per_stage):\n",
        "                if l == 0:\n",
        "                    stage.append(nn.Conv2d(in_channels, out_channels[i], kernel_size=3, stride=1, padding=1))\n",
        "                    stage.append(nn.BatchNorm2d(out_channels[i]))\n",
        "                    stage.append(nn.ELU())\n",
        "                    in_channels = out_channels[i]\n",
        "                else:\n",
        "                    stage.append(ResBlock(in_channels, out_channels[i]))\n",
        "            stage.append(nn.AvgPool2d(kernel_size=2, stride=2))\n",
        "            self.stages.append(stage)\n",
        "\n",
        "        self.fully_connected = nn.Linear(out_channels[-1] * 3 * 3, 10)\n",
        "\n",
        "        for m in self.modules():\n",
        "            if isinstance(m, nn.Conv2d):\n",
        "                sigma = np.sqrt(1 / (9 * m.in_channels))\n",
        "                m.weight.data.normal_(0, sigma)\n",
        "                m.bias.data.zero_()\n",
        "\n",
        "    def forward(self, input):\n",
        "        L = input\n",
        "        for stage in self.stages:\n",
        "            for layer in stage:\n",
        "                L = layer(L)\n",
        "\n",
        "        L = L.view(L.size(0), -1)  # Flatten the tensor\n",
        "        return self.fully_connected(L)\n"
      ]
    },
    {
      "cell_type": "markdown",
      "metadata": {
        "id": "aWHYn08j5kqb"
      },
      "source": [
        "Repeat the procedure of finding the maximum number of layers such that the network is still trainable, this time with the 'ResNet' model."
      ]
    },
    {
      "cell_type": "code",
      "source": [
        "search(lr=0.01, upper=450, model_factory=ResNet);"
      ],
      "metadata": {
        "colab": {
          "base_uri": "https://localhost:8080/"
        },
        "id": "Idefy-FQAik_",
        "outputId": "378f8a2b-72a8-416e-e235-f7a8bfb5cc10"
      },
      "execution_count": null,
      "outputs": [
        {
          "output_type": "stream",
          "name": "stdout",
          "text": [
            "Searching for lowest upper bound of trainability\n",
            "Training CNN with 225 layers\n",
            "Epoch 000/003, Train Error 46.69% || Test Error 18.80%\n",
            "Epoch 001/003, Train Error 11.45% || Test Error 7.58%\n",
            "Epoch 002/003, Train Error 7.31% || Test Error 6.55%\n",
            "  Error under threshold, looking higher\n",
            "Training CNN with 339 layers\n",
            "Epoch 000/003, Train Error 39.00% || Test Error 12.73%\n",
            "Epoch 001/003, Train Error 9.99% || Test Error 7.58%\n",
            "Epoch 002/003, Train Error 6.75% || Test Error 6.15%\n",
            "  Error under threshold, looking higher\n",
            "Training CNN with 396 layers\n",
            "Epoch 000/003, Train Error 76.47% || Test Error 26.85%\n",
            "Epoch 001/003, Train Error 15.24% || Test Error 10.50%\n",
            "Epoch 002/003, Train Error 9.48% || Test Error 7.41%\n",
            "  Error under threshold, looking higher\n",
            "Training CNN with 423 layers\n",
            "Epoch 000/003, Train Error 58.84% || Test Error 19.90%\n",
            "Epoch 001/003, Train Error 15.52% || Test Error 11.28%\n",
            "Epoch 002/003, Train Error 10.95% || Test Error 7.70%\n",
            "  Error under threshold, looking higher\n",
            "Training CNN with 438 layers\n",
            "Epoch 000/003, Train Error 83.36% || Test Error 44.27%\n",
            "Epoch 001/003, Train Error 26.17% || Test Error 20.14%\n",
            "Epoch 002/003, Train Error 17.50% || Test Error 15.48%\n",
            "  Error under threshold, looking higher\n",
            "Training CNN with 444 layers\n",
            "Epoch 000/003, Train Error 60.82% || Test Error 34.07%\n",
            "Epoch 001/003, Train Error 26.41% || Test Error 17.60%\n",
            "Epoch 002/003, Train Error 14.74% || Test Error 11.60%\n",
            "  Error under threshold, looking higher\n",
            "Training CNN with 447 layers\n",
            "Epoch 000/003, Train Error 67.50% || Test Error 24.61%\n",
            "Epoch 001/003, Train Error 16.08% || Test Error 10.76%\n",
            "Epoch 002/003, Train Error 9.57% || Test Error 7.77%\n",
            "  Error under threshold, looking higher\n",
            "Training CNN with 450 layers\n",
            "Epoch 000/003, Train Error 83.38% || Test Error 69.15%\n",
            "Epoch 001/003, Train Error 89.76% || Test Error 91.08%\n",
            "Epoch 002/003, Train Error 89.58% || Test Error 90.42%\n",
            "  Error too high, looking lower\n",
            "With lr=0.01, values of k are 447, 450\n"
          ]
        },
        {
          "output_type": "execute_result",
          "data": {
            "text/plain": [
              "447"
            ]
          },
          "metadata": {},
          "execution_count": 15
        }
      ]
    },
    {
      "cell_type": "markdown",
      "metadata": {
        "id": "NdSKAR4U51pQ"
      },
      "source": [
        "**<font color='blue'>\n",
        "    Summarize your results and observations regarding the experiments above. What was the maximum number of layers for each of the five models such that training remained successful? Briefly discuss why you think each modification helped/harmed the trainability of deep models.\n",
        "</font>**\n",
        "\n",
        "**<font color='red'> --------------------------------------------------------------------- ANSWER (BEGIN) ---------------------------------------------------------------------\n",
        "</font>**"
      ]
    },
    {
      "cell_type": "markdown",
      "source": [
        "<ol>\n",
        "<li> Tanh - Max trainable with k=3\n",
        "<li> Tanh with better init - Max trainable with k=84\n",
        "<li> Elu - Max trainable with k=93\n",
        "<li> Elu with batch normalization - Max trainable with k=156\n",
        "<li> Elu Resnet - Max trainable with k=447\n",
        "</ol>\n",
        "We get substantial increases with better initialization, batch normalization, and using residuals. Better initialization probably helps to reduce the risk of disappearing/exploding gradients and to prevent the CNN from getting stuck in a local minimum. Batch normalization also prevents disappearing and exploding gradients. Adding residuals helps to reduce separation between earlier and later layers, which also helps to solve the vanishing gradient problem."
      ],
      "metadata": {
        "id": "I1fHBMcjEt7t"
      }
    },
    {
      "cell_type": "markdown",
      "metadata": {
        "id": "_UHHtGGk6YSd"
      },
      "source": [
        "**<font color='red'> ---------------------------------------------------------------------- ANSWER (END) ----------------------------------------------------------------------\n",
        "</font>**"
      ]
    },
    {
      "cell_type": "markdown",
      "metadata": {
        "id": "qHhjz1IT7rB4"
      },
      "source": [
        "### Interactions: Batch Norm and Initialization\n",
        "\n",
        "Intuitively, batch norm should make the model more robust to changes in the magnitude of the network's weights: informally, scaling up all the elements of a conv layer's filters by a factor of 10 would not affect the network's output as long as there is a batch norm layer following such convolution, as the normalization would undo the scaling.\n",
        "\n",
        "To check how this intuition translates to practical settings, you should change the original 'CNNtanh' model so that it incorporates batch norm layers (like you have done when modifying 'CNNelu' into 'CNNeluBN').\n",
        "\n",
        "The model below should adopt the naive initialization procedure of sampling from a Gaussian with a deviation of 0.05, not the more sophisticated one that you implemented previously"
      ]
    },
    {
      "cell_type": "code",
      "execution_count": null,
      "metadata": {
        "id": "8405idig8QGw"
      },
      "outputs": [],
      "source": [
        "class CNNtanhBN_oldinit(nn.Module):\n",
        "    def __init__(self, k):\n",
        "        super(CNNtanhBN_oldinit, self).__init__()\n",
        "\n",
        "        layers_per_stage = k // 3\n",
        "        self.stages = nn.ModuleList()\n",
        "\n",
        "        out_channels = [4, 8, 16]\n",
        "        in_channels = 1\n",
        "        for i in range(3):\n",
        "            stage = nn.ModuleList()\n",
        "            for _ in range(layers_per_stage):\n",
        "                stage.append(nn.Conv2d(in_channels, out_channels[i], kernel_size=3, stride=1, padding=1))\n",
        "                stage.append(nn.BatchNorm2d(out_channels[i]))\n",
        "                stage.append(nn.Tanh())\n",
        "                in_channels = out_channels[i]\n",
        "            stage.append(nn.AvgPool2d(kernel_size=2, stride=2))\n",
        "            self.stages.append(stage)\n",
        "\n",
        "        self.fully_connected = nn.Linear(out_channels[-1] * 3 * 3, 10)\n",
        "\n",
        "        for m in self.modules():\n",
        "            if isinstance(m, nn.Conv2d):\n",
        "                m.weight.data.normal_(0, 0.05)\n",
        "                m.bias.data.zero_()\n",
        "\n",
        "    def forward(self, input):\n",
        "        L = input\n",
        "        for stage in self.stages:\n",
        "            for layer in stage:\n",
        "                L = layer(L)\n",
        "\n",
        "        L = L.view(L.size(0), -1)\n",
        "        return self.fully_connected(L)\n"
      ]
    },
    {
      "cell_type": "markdown",
      "metadata": {
        "id": "bvZsUFsl-0-n"
      },
      "source": [
        "Repeat the procedure of finding the maximum number of layers such that the network is still trainable, this time with CNNeluBN_oldinit."
      ]
    },
    {
      "cell_type": "code",
      "execution_count": null,
      "metadata": {
        "id": "sYeWhIOpAnAp",
        "colab": {
          "base_uri": "https://localhost:8080/"
        },
        "outputId": "331410f3-bb12-4141-ea78-161b32956e06"
      },
      "outputs": [
        {
          "output_type": "stream",
          "name": "stdout",
          "text": [
            "Searching for lowest upper bound of trainability\n",
            "Training CNN with 60 layers\n",
            "Epoch 000/003, Train Error 36.16% || Test Error 8.57%\n",
            "Epoch 001/003, Train Error 19.40% || Test Error 7.89%\n",
            "Epoch 002/003, Train Error 7.21% || Test Error 6.38%\n",
            "  Error under threshold, looking higher\n",
            "Training CNN with 90 layers\n",
            "Epoch 000/003, Train Error 55.93% || Test Error 42.03%\n",
            "Epoch 001/003, Train Error 33.71% || Test Error 21.04%\n",
            "Epoch 002/003, Train Error 17.49% || Test Error 14.40%\n",
            "  Error under threshold, looking higher\n",
            "Training CNN with 105 layers\n",
            "Epoch 000/003, Train Error 88.98% || Test Error 88.65%\n",
            "Epoch 001/003, Train Error 88.84% || Test Error 88.65%\n",
            "Epoch 002/003, Train Error 88.78% || Test Error 88.65%\n",
            "  Error too high, looking lower\n",
            "Training CNN with 96 layers\n",
            "Epoch 000/003, Train Error 60.54% || Test Error 42.21%\n",
            "Epoch 001/003, Train Error 32.31% || Test Error 24.10%\n",
            "Epoch 002/003, Train Error 18.75% || Test Error 14.46%\n",
            "  Error under threshold, looking higher\n",
            "Training CNN with 99 layers\n",
            "Epoch 000/003, Train Error 74.51% || Test Error 63.99%\n",
            "Epoch 001/003, Train Error 54.31% || Test Error 42.72%\n",
            "Epoch 002/003, Train Error 30.87% || Test Error 24.07%\n",
            "  Error too high, looking lower\n",
            "With lr=0.01, values of k are 96, 99\n"
          ]
        }
      ],
      "source": [
        "search(lr=0.01, upper=120, model_factory=CNNtanhBN_oldinit);"
      ]
    },
    {
      "cell_type": "markdown",
      "metadata": {
        "id": "n6m_C2V--8EI"
      },
      "source": [
        "**<font color='blue'>\n",
        "    Compare CNNtanh (model with naive initialization and no batch norm), CNNtanh_newinit (model with better initialization and no batch norm), and CNNtanhBN_oldinit (model with naive initialization and batch norm), in terms of how deep each could be while being trainable, and discuss your thoughts one how batch norm interacts with the way parameters are initialized.\n",
        "</font>**\n",
        "\n",
        "**<font color='red'> --------------------------------------------------------------------- ANSWER (BEGIN) ---------------------------------------------------------------------\n",
        "</font>**"
      ]
    },
    {
      "cell_type": "markdown",
      "source": [
        "<li> CNN (naive, no batch norm) - Max trainable with k = 3\n",
        "<li> CNNtanh_newinit - Max trainable with k = 84\n",
        "<li> CNNtanhBN_oldinit - Max trainable with k = 96\n",
        "\n",
        "Batch norm seems to alleviate problems with parameter initialization, where we no longer have to be super careful about picking the best possible initialization for our values."
      ],
      "metadata": {
        "id": "vAPUdmOqEpys"
      }
    },
    {
      "cell_type": "markdown",
      "metadata": {
        "id": "l428K7CT-9mp"
      },
      "source": [
        "**<font color='red'> ---------------------------------------------------------------------- ANSWER (END) ----------------------------------------------------------------------\n",
        "</font>**"
      ]
    },
    {
      "cell_type": "markdown",
      "metadata": {
        "id": "GkrAaQgIBnQt"
      },
      "source": [
        "### Interactions: Batch Norm and Residual Connections\n",
        "\n",
        "Lastly, implement and train a CNN with residual connections but without batch normalization layers -- the goal here is to check how residuals interact with normalization.\n",
        "\n",
        "The model below should be exactly like ResNet, except that it should not have batch norm layers."
      ]
    },
    {
      "cell_type": "code",
      "execution_count": null,
      "metadata": {
        "id": "eK05o-N4B3kG"
      },
      "outputs": [],
      "source": [
        "class ResBlock_noBN(nn.Module):\n",
        "    def __init__(self, ins, outs, kernel_size=3, stride=1, padding=1):\n",
        "        super(ResBlock_noBN, self).__init__()\n",
        "        self.conv = nn.Conv2d(ins, outs, kernel_size, stride, padding)\n",
        "        self.elu = nn.ELU()\n",
        "\n",
        "    def forward(self, x):\n",
        "        out = self.conv(x)\n",
        "        out = self.elu(out)\n",
        "        out = out + x\n",
        "        return out\n",
        "\n",
        "class ResNet_noBN(nn.Module):\n",
        "    def __init__(self, k):\n",
        "        super(ResNet_noBN, self).__init__()\n",
        "        layers_per_stage = k // 3\n",
        "        self.stages = nn.ModuleList()\n",
        "\n",
        "        out_channels = [4, 8, 16]\n",
        "        in_channels = 1\n",
        "        for i in range(3):\n",
        "            stage = nn.ModuleList()\n",
        "            for l in range(layers_per_stage):\n",
        "                if l == 0:\n",
        "                    stage.append(nn.Conv2d(in_channels, out_channels[i], kernel_size=3, stride=1, padding=1))\n",
        "                    stage.append(nn.ELU())\n",
        "                    in_channels = out_channels[i]\n",
        "                else:\n",
        "                    stage.append(ResBlock_noBN(in_channels, out_channels[i]))\n",
        "            stage.append(nn.AvgPool2d(kernel_size=2, stride=2))\n",
        "            self.stages.append(stage)\n",
        "\n",
        "        self.fully_connected = nn.Linear(out_channels[-1] * 3 * 3, 10)\n",
        "\n",
        "        for m in self.modules():\n",
        "            if isinstance(m, nn.Conv2d):\n",
        "                sigma = np.sqrt(1 / (9 * m.in_channels))\n",
        "                m.weight.data.normal_(0, sigma)\n",
        "                m.bias.data.zero_()\n",
        "\n",
        "    def forward(self, input):\n",
        "        L = input\n",
        "        for stage in self.stages:\n",
        "            for layer in stage:\n",
        "                L = layer(L)\n",
        "\n",
        "        L = L.view(L.size(0), -1)\n",
        "        return self.fully_connected(L)"
      ]
    },
    {
      "cell_type": "markdown",
      "metadata": {
        "id": "PQLzjaz0CJFk"
      },
      "source": [
        "Repeat the procedure of finding the maximum number of layers such that the network is still trainable, this time with ResNet_noBN."
      ]
    },
    {
      "cell_type": "code",
      "execution_count": null,
      "metadata": {
        "id": "8_edbTtyCODr",
        "colab": {
          "base_uri": "https://localhost:8080/"
        },
        "outputId": "3bd89912-acc6-46e1-82a6-64c57aca01e2"
      },
      "outputs": [
        {
          "output_type": "stream",
          "name": "stdout",
          "text": [
            "Searching for lowest upper bound of trainability\n",
            "Training CNN with 12 layers\n",
            "Epoch 000/003, Train Error 10.30% || Test Error 2.65%\n",
            "Epoch 001/003, Train Error 2.44% || Test Error 2.15%\n",
            "Epoch 002/003, Train Error 1.80% || Test Error 1.59%\n",
            "  Error under threshold, looking higher\n",
            "Training CNN with 18 layers\n",
            "Epoch 000/003, Train Error 90.15% || Test Error 90.20%\n",
            "Epoch 001/003, Train Error 90.13% || Test Error 90.20%\n",
            "Epoch 002/003, Train Error 90.13% || Test Error 90.20%\n",
            "  Error too high, looking lower\n",
            "Training CNN with 15 layers\n",
            "Epoch 000/003, Train Error 90.11% || Test Error 90.20%\n",
            "Epoch 001/003, Train Error 90.13% || Test Error 90.20%\n",
            "Epoch 002/003, Train Error 90.13% || Test Error 90.20%\n",
            "  Error too high, looking lower\n",
            "With lr=0.01, values of k are 12, 15\n"
          ]
        }
      ],
      "source": [
        "search(lr=0.01, upper=24, model_factory=ResNet_noBN);"
      ]
    },
    {
      "cell_type": "markdown",
      "metadata": {
        "id": "EV_vayTUCMJc"
      },
      "source": [
        "**<font color='blue'>\n",
        "    Compare ResNet and ResNet_noBN in terms of how deep each could be while being trainable, and discuss your thoughts on how batch norm interacts with residual connections.\n",
        "</font>**\n",
        "\n",
        "**<font color='red'> --------------------------------------------------------------------- ANSWER (BEGIN) ---------------------------------------------------------------------\n",
        "</font>**"
      ]
    },
    {
      "cell_type": "markdown",
      "source": [
        "<li> ResNet_noBN - trainable to only k = 12\n",
        "<li> ResNet - trainable to k = 447\n",
        "\n",
        "There is a huge difference between the depth: no batch norm is almost as bad as the naive CNN, no residual. Batch norm seems necessary for CNNs of great depth, making sure that the gradient does not explode or disappear."
      ],
      "metadata": {
        "id": "xafiplLsElrB"
      }
    },
    {
      "cell_type": "markdown",
      "metadata": {
        "id": "zdqTHhOJCPVu"
      },
      "source": [
        "**<font color='red'> ---------------------------------------------------------------------- ANSWER (END) ----------------------------------------------------------------------\n",
        "</font>**"
      ]
    }
  ],
  "metadata": {
    "accelerator": "GPU",
    "anaconda-cloud": {},
    "colab": {
      "provenance": [],
      "gpuType": "T4"
    },
    "kernelspec": {
      "display_name": "Python 3",
      "name": "python3"
    },
    "language_info": {
      "codemirror_mode": {
        "name": "ipython",
        "version": 3
      },
      "file_extension": ".py",
      "mimetype": "text/x-python",
      "name": "python",
      "nbconvert_exporter": "python",
      "pygments_lexer": "ipython3",
      "version": "3.9.1"
    }
  },
  "nbformat": 4,
  "nbformat_minor": 0
}